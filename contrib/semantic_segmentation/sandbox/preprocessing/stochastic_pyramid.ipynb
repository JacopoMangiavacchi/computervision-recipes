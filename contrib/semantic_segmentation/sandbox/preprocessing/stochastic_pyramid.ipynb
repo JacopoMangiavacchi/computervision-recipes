{
 "cells": [
  {
   "cell_type": "code",
   "execution_count": 1,
   "metadata": {},
   "outputs": [],
   "source": [
    "%load_ext autoreload\n",
    "%autoreload 2"
   ]
  },
  {
   "cell_type": "code",
   "execution_count": 2,
   "metadata": {
    "scrolled": true
   },
   "outputs": [],
   "source": [
    "import os\n",
    "import sys\n",
    "import json\n",
    "import random\n",
    "from pathlib import Path\n",
    "from typing import Dict, List, Tuple, Union\n",
    "\n",
    "import matplotlib.pyplot as plt\n",
    "import matplotlib.patches as patches\n",
    "from matplotlib.pyplot import imshow, show\n",
    "import PIL\n",
    "from PIL import Image\n",
    "import cv2\n",
    "import numpy as np"
   ]
  },
  {
   "cell_type": "code",
   "execution_count": 3,
   "metadata": {},
   "outputs": [],
   "source": [
    "# sandbox/preprocessing\n",
    "sys.path.append(\"../../\")\n",
    "from src.patching.coco_annotation import *"
   ]
  },
  {
   "cell_type": "code",
   "execution_count": 5,
   "metadata": {
    "scrolled": true
   },
   "outputs": [],
   "source": [
    "DATA_PATH = '/Users/jacopo/Downloads/semantic_drone_dataset'\n",
    "\n",
    "full_image_path = f\"{DATA_PATH}/DanTysk (2019)/{image_path}\"\n",
    "print(full_image_path)\n",
    "image = Image.open(full_image_path)\n",
    "print(image.width, image.height)\n",
    "imshow(image)"
   ]
  },
  {
   "cell_type": "markdown",
   "metadata": {},
   "source": [
    "# Test window patch and mask image extractor with sub annotation"
   ]
  },
  {
   "cell_type": "code",
   "execution_count": 57,
   "metadata": {},
   "outputs": [],
   "source": [
    "patch_images = []"
   ]
  },
  {
   "cell_type": "code",
   "execution_count": 58,
   "metadata": {},
   "outputs": [],
   "source": [
    "patch512 = extract_windowed_patches_and_mask_images_sub_annotation(image=image, \n",
    "    annotations=image_annotations,\n",
    "    classes=[1, 2, 3, 4],                                                               \n",
    "    patch_dimension=(512,512), \n",
    "    window_overlap=0.3,\n",
    "    threshold=100)\n",
    "\n",
    "patch_images.extend(patch512)"
   ]
  },
  {
   "cell_type": "code",
   "execution_count": 59,
   "metadata": {},
   "outputs": [
    {
     "data": {
      "text/plain": [
       "64"
      ]
     },
     "execution_count": 59,
     "metadata": {},
     "output_type": "execute_result"
    }
   ],
   "source": [
    "len(patch_images)"
   ]
  },
  {
   "cell_type": "code",
   "execution_count": 60,
   "metadata": {},
   "outputs": [],
   "source": [
    "patch1024 = extract_windowed_patches_and_mask_images_sub_annotation(image=image, \n",
    "    annotations=image_annotations,\n",
    "    classes=[1, 2, 3, 4],                                                               \n",
    "    patch_dimension=(1024,1024), \n",
    "    window_overlap=0.3,\n",
    "    threshold=100)\n",
    "\n",
    "patch_images.extend((x.resize((512, 512)), y.resize((512, 512))) for x, y in patch1024)"
   ]
  },
  {
   "cell_type": "code",
   "execution_count": 61,
   "metadata": {},
   "outputs": [
    {
     "data": {
      "text/plain": [
       "(29, 93)"
      ]
     },
     "execution_count": 61,
     "metadata": {},
     "output_type": "execute_result"
    }
   ],
   "source": [
    "len(patch1024), len(patch_images)"
   ]
  },
  {
   "cell_type": "code",
   "execution_count": 62,
   "metadata": {},
   "outputs": [],
   "source": [
    "patch2048 = extract_windowed_patches_and_mask_images_sub_annotation(image=image, \n",
    "    annotations=image_annotations,\n",
    "    classes=[1, 2, 3, 4],                                                               \n",
    "    patch_dimension=(2048,2048), \n",
    "    window_overlap=0.3,\n",
    "    threshold=100)\n",
    "\n",
    "patch_images.extend((x.resize((512, 512)), y.resize((512, 512))) for x, y in patch2048)"
   ]
  },
  {
   "cell_type": "code",
   "execution_count": 63,
   "metadata": {},
   "outputs": [
    {
     "data": {
      "text/plain": [
       "(16, 109)"
      ]
     },
     "execution_count": 63,
     "metadata": {},
     "output_type": "execute_result"
    }
   ],
   "source": [
    "len(patch2048), len(patch_images)"
   ]
  },
  {
   "cell_type": "code",
   "execution_count": 64,
   "metadata": {},
   "outputs": [],
   "source": [
    "patch3632 = extract_windowed_patches_and_mask_images_sub_annotation(image=image, \n",
    "    annotations=image_annotations,\n",
    "    classes=[1, 2, 3, 4],                                                               \n",
    "    patch_dimension=(3632,3632), \n",
    "    window_overlap=0.3,\n",
    "    threshold=100)\n",
    "\n",
    "patch_images.extend((x.resize((512, 512)), y.resize((512, 512))) for x, y in patch3632)"
   ]
  },
  {
   "cell_type": "code",
   "execution_count": 65,
   "metadata": {},
   "outputs": [
    {
     "data": {
      "text/plain": [
       "(3, 112)"
      ]
     },
     "execution_count": 65,
     "metadata": {},
     "output_type": "execute_result"
    }
   ],
   "source": [
    "len(patch3632), len(patch_images)"
   ]
  },
  {
   "cell_type": "code",
   "execution_count": null,
   "metadata": {
    "scrolled": false
   },
   "outputs": [],
   "source": [
    "for i in range(len(patch_images)):\n",
    "    _, axs = plt.subplots(1, 2, figsize=(12, 12))\n",
    "    axs = axs.flatten()\n",
    "    axs[0].imshow(patch_images[i][0])\n",
    "    axs[1].imshow(patch_images[i][1])\n",
    "    plt.show()"
   ]
  },
  {
   "cell_type": "raw",
   "metadata": {},
   "source": []
  }
 ],
 "metadata": {
  "interpreter": {
   "hash": "aee8b7b246df8f9039afb4144a1f6fd8d2ca17a180786b69acc140d282b71a49"
  },
  "jupytext": {
   "encoding": "# -*- coding: utf-8 -*-",
   "text_representation": {
    "extension": ".py",
    "format_name": "percent",
    "format_version": "1.3",
    "jupytext_version": "1.11.2"
   }
  },
  "kernel_info": {
   "name": "python38-azureml"
  },
  "kernelspec": {
   "display_name": "Python 3.9.2 64-bit",
   "name": "python3"
  },
  "language_info": {
   "codemirror_mode": {
    "name": "ipython",
    "version": 3
   },
   "file_extension": ".py",
   "mimetype": "text/x-python",
   "name": "python",
   "nbconvert_exporter": "python",
   "pygments_lexer": "ipython3",
   "version": "3.9.2"
  },
  "metadata": {
   "interpreter": {
    "hash": "1de7007506b59c1851789c9286733ad8fd21f4ccae278901f1e3b18997b87569"
   }
  },
  "nteract": {
   "version": "nteract-front-end@1.0.0"
  }
 },
 "nbformat": 4,
 "nbformat_minor": 4
}